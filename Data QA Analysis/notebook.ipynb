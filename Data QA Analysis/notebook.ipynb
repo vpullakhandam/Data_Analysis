{
 "cells": [
  {
   "cell_type": "markdown",
   "metadata": {},
   "source": [
    "Step 1: Import and Read the File\n",
    "python\n",
    "\n"
   ]
  },
  {
   "cell_type": "code",
   "execution_count": 6,
   "metadata": {},
   "outputs": [
    {
     "name": "stdout",
     "output_type": "stream",
     "text": [
      "                       file                                            message\n",
      "0     allen-p/_sent_mail/1.  Message-ID: <18782981.1075855378110.JavaMail.e...\n",
      "1    allen-p/_sent_mail/10.  Message-ID: <15464986.1075855378456.JavaMail.e...\n",
      "2   allen-p/_sent_mail/100.  Message-ID: <24216240.1075855687451.JavaMail.e...\n",
      "3  allen-p/_sent_mail/1000.  Message-ID: <13505866.1075863688222.JavaMail.e...\n",
      "4  allen-p/_sent_mail/1001.  Message-ID: <30922949.1075863688243.JavaMail.e...\n"
     ]
    }
   ],
   "source": [
    "import pandas as pd\n",
    "\n",
    "# Read the Enron emails CSV\n",
    "df = pd.read_csv(\"/Users/vaishnavipullakhandam/Desktop/github/Data_Analysis/Data QA Analysis/emails.csv\",nrows=20000)\n",
    "\n",
    "# Display the first few rows\n",
    "print(df.head())"
   ]
  },
  {
   "cell_type": "markdown",
   "metadata": {},
   "source": [
    "Step 2: Extract Key Email Fields\n",
    "- To extract Message-ID, Date, From, To, Subject, and Body."
   ]
  },
  {
   "cell_type": "code",
   "execution_count": 7,
   "metadata": {},
   "outputs": [],
   "source": [
    "# Function to extract parts from the raw email message\n",
    "def extract_fields(message):\n",
    "    lines = message.split(\"\\n\")  # Split the message into lines\n",
    "    data = {\n",
    "        \"Message-ID\": \"\",\n",
    "        \"Date\": \"\",\n",
    "        \"From\": \"\",\n",
    "        \"To\": \"\",\n",
    "        \"Subject\": \"\",\n",
    "        \"Body\": \"\"\n",
    "    }\n",
    "    \n",
    "    body_lines = []\n",
    "    body_started = False\n",
    "    \n",
    "    for line in lines:\n",
    "        line = line.strip()  # remove leading/trailing spaces\n",
    "        if line.startswith(\"Message-ID:\"):\n",
    "            data[\"Message-ID\"] = line[len(\"Message-ID:\"):].strip()\n",
    "        elif line.startswith(\"Date:\"):\n",
    "            data[\"Date\"] = line[len(\"Date:\"):].strip()\n",
    "        elif line.startswith(\"From:\"):\n",
    "            data[\"From\"] = line[len(\"From:\"):].strip()\n",
    "        elif line.startswith(\"To:\"):\n",
    "            data[\"To\"] = line[len(\"To:\"):].strip()\n",
    "        elif line.startswith(\"Subject:\"):\n",
    "            data[\"Subject\"] = line[len(\"Subject:\"):].strip()\n",
    "        elif line == \"\":\n",
    "            body_started = True  # body starts after first blank line\n",
    "        elif body_started:\n",
    "            body_lines.append(line)\n",
    "    \n",
    "    data[\"Body\"] = \" \".join(body_lines)  # join body lines into one string\n",
    "    return pd.Series(data)\n"
   ]
  },
  {
   "cell_type": "markdown",
   "metadata": {},
   "source": [
    "Step 3: Apply the Function to Your DataFrame"
   ]
  },
  {
   "cell_type": "code",
   "execution_count": 8,
   "metadata": {},
   "outputs": [
    {
     "name": "stdout",
     "output_type": "stream",
     "text": [
      "                       file                                     Message-ID  \\\n",
      "0     allen-p/_sent_mail/1.  <18782981.1075855378110.JavaMail.evans@thyme>   \n",
      "1    allen-p/_sent_mail/10.  <15464986.1075855378456.JavaMail.evans@thyme>   \n",
      "2   allen-p/_sent_mail/100.  <24216240.1075855687451.JavaMail.evans@thyme>   \n",
      "3  allen-p/_sent_mail/1000.  <13505866.1075863688222.JavaMail.evans@thyme>   \n",
      "4  allen-p/_sent_mail/1001.  <30922949.1075863688243.JavaMail.evans@thyme>   \n",
      "\n",
      "                                    Date                     From  \\\n",
      "0  Mon, 14 May 2001 16:39:00 -0700 (PDT)  phillip.allen@enron.com   \n",
      "1   Fri, 4 May 2001 13:51:00 -0700 (PDT)  phillip.allen@enron.com   \n",
      "2  Wed, 18 Oct 2000 03:00:00 -0700 (PDT)  phillip.allen@enron.com   \n",
      "3  Mon, 23 Oct 2000 06:13:00 -0700 (PDT)  phillip.allen@enron.com   \n",
      "4  Thu, 31 Aug 2000 05:07:00 -0700 (PDT)  phillip.allen@enron.com   \n",
      "\n",
      "                        To    Subject  \\\n",
      "0     tim.belden@enron.com              \n",
      "1  john.lavorato@enron.com        Re:   \n",
      "2   leah.arsdall@enron.com   Re: test   \n",
      "3    randall.gay@enron.com              \n",
      "4     greg.piper@enron.com  Re: Hello   \n",
      "\n",
      "                                                Body  \n",
      "0                               Here is our forecast  \n",
      "1  Traveling to have a business meeting takes the...  \n",
      "2                     test successful.  way to go!!!  \n",
      "3  Randy, Can you send me a schedule of the salar...  \n",
      "4                  Let's shoot for Tuesday at 11:45.  \n"
     ]
    }
   ],
   "source": [
    "# Apply the function to every row in the 'message' column\n",
    "extracted_df = df[\"message\"].apply(extract_fields)\n",
    "\n",
    "# Combine extracted fields with the original DataFrame\n",
    "df_cleaned = pd.concat([df, extracted_df], axis=1)\n",
    "\n",
    "# Show the cleaned result\n",
    "print(df_cleaned[['file', 'Message-ID', 'Date', 'From', 'To', 'Subject', 'Body']].head())\n"
   ]
  },
  {
   "cell_type": "markdown",
   "metadata": {},
   "source": [
    "Step 4: Save the Cleaned Data"
   ]
  },
  {
   "cell_type": "code",
   "execution_count": 9,
   "metadata": {},
   "outputs": [],
   "source": [
    "# Save the cleaned data to a new CSV\n",
    "df_cleaned.to_csv(\"emails_cleaned.csv\", index=False)\n"
   ]
  },
  {
   "cell_type": "markdown",
   "metadata": {},
   "source": [
    "Step 5: Clean the Email Body "
   ]
  },
  {
   "cell_type": "code",
   "execution_count": 10,
   "metadata": {},
   "outputs": [
    {
     "name": "stdout",
     "output_type": "stream",
     "text": [
      "                                                Body  \\\n",
      "0                               Here is our forecast   \n",
      "1  Traveling to have a business meeting takes the...   \n",
      "\n",
      "                                        Body_cleaned  \n",
      "0                               here is our forecast  \n",
      "1  traveling to have a business meeting takes the...  \n"
     ]
    }
   ],
   "source": [
    "# Clean the body: remove multiple spaces, lowercase, and trim\n",
    "df_cleaned[\"Body_cleaned\"] = df_cleaned[\"Body\"].str.lower().str.strip().str.replace(r\"\\s+\", \" \", regex=True)\n",
    "\n",
    "# Show sample cleaned body\n",
    "print(df_cleaned[[\"Body\", \"Body_cleaned\"]].head(2))\n"
   ]
  },
  {
   "cell_type": "markdown",
   "metadata": {},
   "source": [
    "Step 6: Detect and Report Missing Fields (QA Check)"
   ]
  },
  {
   "cell_type": "code",
   "execution_count": 11,
   "metadata": {},
   "outputs": [
    {
     "name": "stdout",
     "output_type": "stream",
     "text": [
      "🔍 Missing field count:\n",
      "Message-ID    0\n",
      "Date          0\n",
      "From          0\n",
      "To            0\n",
      "Subject       0\n",
      "Body          0\n",
      "dtype: int64\n"
     ]
    }
   ],
   "source": [
    "# Check for missing values in key fields\n",
    "missing_summary = df_cleaned[[\"Message-ID\", \"Date\", \"From\", \"To\", \"Subject\", \"Body\"]].isnull().sum()\n",
    "\n",
    "print(\"🔍 Missing field count:\")\n",
    "print(missing_summary)\n"
   ]
  },
  {
   "cell_type": "code",
   "execution_count": 12,
   "metadata": {},
   "outputs": [
    {
     "name": "stdout",
     "output_type": "stream",
     "text": [
      "Empty DataFrame\n",
      "Columns: [file, message, Message-ID, Date, From, To, Subject, Body, Body_cleaned, has_missing_fields]\n",
      "Index: []\n"
     ]
    }
   ],
   "source": [
    "# Flag rows with missing essential fields\n",
    "df_cleaned[\"has_missing_fields\"] = df_cleaned[[\"From\", \"To\", \"Subject\", \"Body\"]].isnull().any(axis=1)\n",
    "\n",
    "# Display some rows with missing info\n",
    "print(df_cleaned[df_cleaned[\"has_missing_fields\"]].head())\n"
   ]
  },
  {
   "cell_type": "markdown",
   "metadata": {},
   "source": [
    "Step 7: Categorize Email Types (Manual Labeling)\n"
   ]
  },
  {
   "cell_type": "code",
   "execution_count": 14,
   "metadata": {},
   "outputs": [],
   "source": [
    "def label_category(body):\n",
    "    body = body.lower()\n",
    "    if \"meeting\" in body or \"schedule\" in body:\n",
    "        return \"Meeting\"\n",
    "    elif \"thank you\" in body or \"thanks\" in body:\n",
    "        return \"Gratitude\"\n",
    "    elif \"invoice\" in body or \"payment\" in body:\n",
    "        return \"Finance\"\n",
    "    elif \"complaint\" in body or \"issue\" in body:\n",
    "        return \"Complaint\"\n",
    "    elif \"test\" in body:\n",
    "        return \"Test\"\n",
    "    else:\n",
    "        return \"Other\"\n"
   ]
  },
  {
   "cell_type": "code",
   "execution_count": 15,
   "metadata": {},
   "outputs": [
    {
     "name": "stdout",
     "output_type": "stream",
     "text": [
      "                                             Subject  \\\n",
      "0                                                      \n",
      "1                                                Re:   \n",
      "2                                           Re: test   \n",
      "3                                                      \n",
      "4                                          Re: Hello   \n",
      "5                                          Re: Hello   \n",
      "6                                                      \n",
      "7                       Re: PRC review - phone calls   \n",
      "8                     Re: High Speed Internet Access   \n",
      "9  FW: fixed forward or other Collar floor gas pr...   \n",
      "\n",
      "                                        Body_cleaned   Category  \n",
      "0                               here is our forecast      Other  \n",
      "1  traveling to have a business meeting takes the...    Meeting  \n",
      "2                      test successful. way to go!!!       Test  \n",
      "3  randy, can you send me a schedule of the salar...    Meeting  \n",
      "4                  let's shoot for tuesday at 11:45.      Other  \n",
      "5  greg, how about either next tuesday or thursda...      Other  \n",
      "6  please cc the following distribution list with...  Gratitude  \n",
      "7                   any morning between 10 and 11:30      Other  \n",
      "8  1. login: pallen pw: ke9davis i don't think th...      Other  \n",
      "9  ---------------------- forwarded by phillip k ...      Other  \n"
     ]
    }
   ],
   "source": [
    "df_cleaned[\"Category\"] = df_cleaned[\"Body_cleaned\"].apply(label_category)\n",
    "\n",
    "# Show a sample\n",
    "print(df_cleaned[[\"Subject\", \"Body_cleaned\", \"Category\"]].head(10))\n"
   ]
  },
  {
   "cell_type": "markdown",
   "metadata": {},
   "source": [
    " Step 8: Monitor Sender Trends (Simple Analytics)"
   ]
  },
  {
   "cell_type": "code",
   "execution_count": 16,
   "metadata": {},
   "outputs": [
    {
     "name": "stdout",
     "output_type": "stream",
     "text": [
      "                          Sender  Email_Count\n",
      "0            eric.bass@enron.com         3219\n",
      "1          john.arnold@enron.com         2371\n",
      "2        phillip.allen@enron.com         1809\n",
      "3  enron.announcements@enron.com          263\n",
      "4         bryant@cheatsheets.net          205\n"
     ]
    }
   ],
   "source": [
    "email_counts = df_cleaned[\"From\"].value_counts().reset_index()\n",
    "email_counts.columns = [\"Sender\", \"Email_Count\"]\n",
    "\n",
    "print(email_counts.head())\n"
   ]
  },
  {
   "cell_type": "code",
   "execution_count": 17,
   "metadata": {},
   "outputs": [
    {
     "name": "stdout",
     "output_type": "stream",
     "text": [
      "                    Sender  Email_Count\n",
      "0      eric.bass@enron.com         3219\n",
      "1    john.arnold@enron.com         2371\n",
      "2  phillip.allen@enron.com         1809\n"
     ]
    }
   ],
   "source": [
    "# Any sender who sent more than 1000 emails?\n",
    "print(email_counts[email_counts[\"Email_Count\"] > 1000])\n"
   ]
  }
 ],
 "metadata": {
  "kernelspec": {
   "display_name": "base",
   "language": "python",
   "name": "python3"
  },
  "language_info": {
   "codemirror_mode": {
    "name": "ipython",
    "version": 3
   },
   "file_extension": ".py",
   "mimetype": "text/x-python",
   "name": "python",
   "nbconvert_exporter": "python",
   "pygments_lexer": "ipython3",
   "version": "3.10.9"
  }
 },
 "nbformat": 4,
 "nbformat_minor": 2
}
