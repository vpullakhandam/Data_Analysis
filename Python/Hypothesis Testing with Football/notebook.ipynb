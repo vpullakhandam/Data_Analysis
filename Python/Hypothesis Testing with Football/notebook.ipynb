{
 "cells": [
  {
   "cell_type": "markdown",
   "id": "2233b9a6",
   "metadata": {},
   "source": [
    "### Analyzing Goal Scoring Trends: A Comparative Study of Men's and Women's International Soccer Matches"
   ]
  },
  {
   "attachments": {},
   "cell_type": "markdown",
   "id": "3ed0edb2-696b-49ab-9db0-681defcce695",
   "metadata": {},
   "source": [
    "![A soccer pitch for an international match.](../../Python/Hypothesis%20Testing%20with%20Football/soccer-pitch.jpg)\n",
    "\n",
    "You're working as a sports journalist at a major online sports media company, specializing in soccer analysis and reporting. You've been watching both men's and women's international soccer matches for a number of years, and your gut instinct tells you that more goals are scored in women's international football matches than men's. This would make an interesting investigative article that your subscribers are bound to love, but you'll need to perform a valid statistical hypothesis test to be sure!\n",
    "\n",
    "While scoping this project, you acknowledge that the sport has changed a lot over the years, and performances likely vary a lot depending on the tournament, so you decide to limit the data used in the analysis to only official `FIFA World Cup` matches (not including qualifiers) since `2002-01-01`.\n",
    "\n",
    "You create two datasets containing the results of every official men's and women's international football match since the 19th century, which you scraped from a reliable online source. This data is stored in two CSV files: `women_results.csv` and `men_results.csv`.\n",
    "\n",
    "The question you are trying to determine the answer to is:\n",
    "\n",
    "> Are more goals scored in women's international soccer matches than men's?\n",
    "\n",
    "You assume a **10% significance level**, and use the following null and alternative hypotheses:\n",
    "\n",
    "$H_0$ : The mean number of goals scored in women's international soccer matches is the same as men's.\n",
    "\n",
    "$H_A$ : The mean number of goals scored in women's international soccer matches is greater than men's."
   ]
  },
  {
   "cell_type": "code",
   "execution_count": null,
   "id": "84a3c4c8-534b-4d1a-9919-17e05208b2ca",
   "metadata": {
    "executionCancelledAt": null,
    "executionTime": 522,
    "lastExecutedAt": 1740406695227,
    "lastExecutedByKernel": "6a9f25f2-d2b0-48f8-8534-af2e2ff52b1d",
    "lastScheduledRunId": null,
    "lastSuccessfullyExecutedCode": "\nimport pandas as pd\nimport matplotlib.pyplot as plt\nfrom scipy.stats import mannwhitneyu\n\nwomen = pd.read_csv(\"women_results.csv\")\nmen=pd.read_csv(\"men_results.csv\")\n\n\nmen['date']=pd.to_datetime(men['date'])\nwomen['date']=pd.to_datetime(women['date'])\n\nmen_subset=men[(men[\"date\"]>\"2002-01-01\") & (men['tournament'].isin([\"FIFA World Cup\"]))]\nwomen_subset=women[(women[\"date\"]>\"2002-01-01\") & (women['tournament'].isin([\"FIFA World Cup\"]))]\n\n# Create goals_scored columns\nmen_subset[\"goals_scored\"]=men_subset[\"home_score\"]+men_subset[\"away_score\"]\nwomen_subset[\"goals_scored\"]=women_subset[\"home_score\"]+women_subset[\"away_score\"]\n\n# Determine normality using histograms\n\nmen_subset[\"goals_scored\"].hist()\nplt.title(\"Men's Matches - Goals Scored Distribution\")\nplt.xlabel(\"Goals Scored\")\nplt.ylabel(\"Number of Matches\")\nplt.show()\n\n\n\nwomen_subset[\"goals_scored\"].hist()\nplt.title(\"Women's Matches - Goals Scored Distribution\")\nplt.xlabel(\"Goals Scored\")\nplt.ylabel(\"Number of Matches\")\nplt.show()\n\n\n# Perform the Mann-Whitney U test without concatenating\nresults_scipy = mannwhitneyu(x=women_subset[\"goals_scored\"], \n                             y=men_subset[\"goals_scored\"], \n                             alternative=\"greater\")\n\n# Extract the p-value\np_val = results_scipy.pvalue\n\nprint(results_scipy)\n\n# Set significance level\nalpha = 0.10\n\n# Determine hypothesis test result\nif p_val <= alpha:\n    result = \"reject\"\nelse:\n    result = \"fail to reject\"\n\n# Store in the result dictionary\nresult_dict = {\"p_val\": p_val, \"result\": result}\n\nprint(result_dict)\n\n\n\n\n\n\n",
    "outputsMetadata": {
     "0": {
      "height": 550,
      "tableState": {
       "customFilter": {
        "const": {
         "type": "boolean",
         "valid": true,
         "value": true
        },
        "id": "672944fc-88e4-40d5-92a5-83e172546eb8",
        "nodeType": "const"
       },
       "quickFilterText": ""
      },
      "type": "dataFrame"
     },
     "2": {
      "height": 59,
      "type": "stream"
     }
    }
   },
   "outputs": [],
   "source": [
    "\n",
    "import pandas as pd\n",
    "import matplotlib.pyplot as plt\n",
    "from scipy.stats import mannwhitneyu\n",
    "\n",
    "women = pd.read_csv(\"women_results.csv\")\n",
    "men=pd.read_csv(\"men_results.csv\")\n",
    "\n",
    "\n",
    "men['date']=pd.to_datetime(men['date'])\n",
    "women['date']=pd.to_datetime(women['date'])\n",
    "\n",
    "men_subset=men[(men[\"date\"]>\"2002-01-01\") & (men['tournament'].isin([\"FIFA World Cup\"]))]\n",
    "women_subset=women[(women[\"date\"]>\"2002-01-01\") & (women['tournament'].isin([\"FIFA World Cup\"]))]\n",
    "\n",
    "# Create goals_scored columns\n",
    "men_subset[\"goals_scored\"]=men_subset[\"home_score\"]+men_subset[\"away_score\"]\n",
    "women_subset[\"goals_scored\"]=women_subset[\"home_score\"]+women_subset[\"away_score\"]\n",
    "\n",
    "# Determine normality using histograms\n",
    "\n",
    "men_subset[\"goals_scored\"].hist()\n",
    "plt.title(\"Men's Matches - Goals Scored Distribution\")\n",
    "plt.xlabel(\"Goals Scored\")\n",
    "plt.ylabel(\"Number of Matches\")\n",
    "plt.show()\n",
    "\n",
    "\n",
    "\n",
    "women_subset[\"goals_scored\"].hist()\n",
    "plt.title(\"Women's Matches - Goals Scored Distribution\")\n",
    "plt.xlabel(\"Goals Scored\")\n",
    "plt.ylabel(\"Number of Matches\")\n",
    "plt.show()\n",
    "\n",
    "\n",
    "# Perform the Mann-Whitney U test because we can see that the datasets are normal from the histogram.\n",
    "results_scipy = mannwhitneyu(x=women_subset[\"goals_scored\"], \n",
    "                             y=men_subset[\"goals_scored\"], \n",
    "                             alternative=\"greater\")\n",
    "\n",
    "# Extract the p-value\n",
    "p_val = results_scipy.pvalue\n",
    "\n",
    "print(results_scipy)\n",
    "\n",
    "# Set significance level\n",
    "alpha = 0.10\n",
    "\n",
    "# Determine hypothesis test result\n",
    "if p_val <= alpha:\n",
    "    result = \"reject\"\n",
    "else:\n",
    "    result = \"fail to reject\"\n",
    "\n",
    "# Store in the result dictionary\n",
    "result_dict = {\"p_val\": p_val, \"result\": result}\n",
    "\n",
    "print(result_dict)\n",
    "\n",
    "\n",
    "\n",
    "\n",
    "\n",
    "\n"
   ]
  },
  {
   "cell_type": "code",
   "execution_count": 9,
   "id": "a7d934be-a118-4216-a3b4-06c00c407e92",
   "metadata": {
    "executionCancelledAt": null,
    "executionTime": 47,
    "lastExecutedAt": 1740406695274,
    "lastExecutedByKernel": "6a9f25f2-d2b0-48f8-8534-af2e2ff52b1d",
    "lastScheduledRunId": null,
    "lastSuccessfullyExecutedCode": ""
   },
   "outputs": [],
   "source": []
  },
  {
   "cell_type": "code",
   "execution_count": null,
   "id": "8fd537d2-b74e-4714-90f7-a9b2a6f18c86",
   "metadata": {
    "customType": "sql",
    "dataFrameVariableName": "df",
    "isNoCode": true,
    "sqlCellMode": "dataFrame",
    "sqlSource": {
     "integrationId": "db697c09-0402-4a02-b327-26018dc2ecce",
     "integrationType": "snowflake",
     "type": "integration"
    }
   },
   "outputs": [],
   "source": []
  },
  {
   "cell_type": "code",
   "execution_count": null,
   "id": "59e5d7f5-279b-49a7-a7f9-bc17011d2c2b",
   "metadata": {
    "customType": "sql",
    "dataFrameVariableName": "df1",
    "isNoCode": true,
    "sqlCellMode": "dataFrame",
    "sqlSource": {
     "integrationId": "db697c09-0402-4a02-b327-26018dc2ecce",
     "integrationType": "snowflake",
     "type": "integration"
    }
   },
   "outputs": [],
   "source": []
  }
 ],
 "metadata": {
  "colab": {
   "name": "Welcome to DataCamp Workspaces.ipynb",
   "provenance": []
  },
  "kernelspec": {
   "display_name": "base",
   "language": "python",
   "name": "python3"
  },
  "language_info": {
   "codemirror_mode": {
    "name": "ipython",
    "version": 3
   },
   "file_extension": ".py",
   "mimetype": "text/x-python",
   "name": "python",
   "nbconvert_exporter": "python",
   "pygments_lexer": "ipython3",
   "version": "3.10.9"
  }
 },
 "nbformat": 4,
 "nbformat_minor": 5
}
