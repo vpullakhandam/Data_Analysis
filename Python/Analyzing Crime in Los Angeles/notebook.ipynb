{
 "cells": [
  {
   "cell_type": "code",
   "execution_count": null,
   "metadata": {},
   "outputs": [],
   "source": [
    "'''\n",
    "\n",
    "Explore the crimes.csv dataset and use your findings to answer the following questions:\n",
    "\n",
    "Which hour has the highest frequency of crimes? Store as an integer variable called peak_crime_hour.\n",
    "\n",
    "Which area has the largest frequency of night crimes (crimes committed between 10pm and 3:59am)? Save as a string variable called peak_night_crime_location.\n",
    "\n",
    "Identify the number of crimes committed against victims of different age groups. Save as a pandas Series called victim_ages, with age group labels \"0-17\", \"18-25\", \"26-34\", \"35-44\", \"45-54\", \"55-64\", and \"65+\" as the index and the frequency of crimes as the values.\n",
    "\n",
    "\n",
    "The crimes.csv has the following columns : \n",
    "\n",
    "['DR_NO', 'Date Rptd', 'DATE OCC', 'TIME OCC', 'AREA NAME','Crm Cd Desc', 'Vict Age', 'Vict Sex', 'Vict Descent','Weapon Desc', 'Status Desc', 'LOCATION']\n",
    "      \n",
    "'''"
   ]
  }
 ],
 "metadata": {
  "language_info": {
   "name": "python"
  },
  "orig_nbformat": 4
 },
 "nbformat": 4,
 "nbformat_minor": 2
}
