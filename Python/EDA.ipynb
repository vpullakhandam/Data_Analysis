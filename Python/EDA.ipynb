{
 "cells": [
  {
   "cell_type": "code",
   "execution_count": null,
   "metadata": {},
   "outputs": [],
   "source": [
    "# Process to do EDA \n",
    "\n",
    "\"\"\"\n",
    " # use pandas to load csv data\n",
    " data = pd.read_csv(data)\n",
    "\n",
    " # see the first few data points\n",
    " data.head()\n",
    "\n",
    " # info() method, it gives info about null count and data type.\n",
    "\n",
    " data.info()\n",
    "\n",
    " # Count the values associated with each column\n",
    "\n",
    " data['col'].value_counts()\n",
    "\n",
    " # use describe for numerical columns, to get count, mean, std, min , quartiles\n",
    "\n",
    " data.describe()\n",
    "\n",
    " # Visualize numerical data using seaborn\n",
    "\n",
    "\n",
    " \"\"\""
   ]
  }
 ],
 "metadata": {
  "language_info": {
   "name": "python"
  },
  "orig_nbformat": 4
 },
 "nbformat": 4,
 "nbformat_minor": 2
}
