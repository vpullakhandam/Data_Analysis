{
 "cells": [
  {
   "attachments": {},
   "cell_type": "markdown",
   "metadata": {},
   "source": [
    "#### Customer Call Center Performance Analysis\n",
    "\n",
    "##### Data Overview\n",
    "The dataset has 5,000 entries and 10 columns. Here's a summary of the columns:\n",
    "\n",
    "- Call Id: Identifier for each call (e.g., ID0001)\n",
    "- Agent: Name of the agent who handled the call\n",
    "- Date: Date of the call (stored as a string)\n",
    "- Time: Time of the call (stored as a string)\n",
    "- Topic: The topic discussed during the call (e.g.,Contract related, Technical Support)\n",
    "- Answered (Y/N): Whether the call was answered or not (Y for answered, N for unanswered)\n",
    "- Resolved: Whether the issue was resolved (Y for yes, N for no)\n",
    "- Speed of answer in seconds: The time taken to answer the call\n",
    "- AvgTalkDuration: Average talk duration of the call \n",
    "- Satisfaction rating: A rating given for customer satisfaction\n",
    "\n",
    "\n",
    "##### Objective:\n",
    "\n",
    "The goal of this project is to analyze customer call center data to gain insights into the following:\n",
    "\n",
    "- Agent Performance: Identify top-performing agents based on factors like call resolution, speed of answer, and customer satisfaction ratings.\n",
    "- Call Topic Analysis: Determine which topics are most frequently discussed and how they impact call outcomes (answered, resolved, etc.).\n",
    "- Customer Satisfaction: Analyze the factors that influence customer satisfaction scores, such as speed of answer and resolution status.\n",
    "- Operational Efficiency: Evaluate how efficiently the call center operates, considering metrics like average talk duration and speed of answering.\n"
   ]
  },
  {
   "attachments": {},
   "cell_type": "markdown",
   "metadata": {},
   "source": [
    "##### STEP 1 : Data Loading and Inspection\n",
    "\n"
   ]
  },
  {
   "cell_type": "code",
   "execution_count": 2,
   "metadata": {},
   "outputs": [
    {
     "name": "stderr",
     "output_type": "stream",
     "text": [
      "/Users/vaishnavipullakhandam/anaconda3/lib/python3.10/site-packages/pandas/core/arrays/masked.py:60: UserWarning: Pandas requires version '1.3.6' or newer of 'bottleneck' (version '1.3.5' currently installed).\n",
      "  from pandas.core import (\n"
     ]
    }
   ],
   "source": [
    "import pandas as pd"
   ]
  },
  {
   "cell_type": "code",
   "execution_count": 7,
   "metadata": {},
   "outputs": [
    {
     "data": {
      "text/html": [
       "<div>\n",
       "<style scoped>\n",
       "    .dataframe tbody tr th:only-of-type {\n",
       "        vertical-align: middle;\n",
       "    }\n",
       "\n",
       "    .dataframe tbody tr th {\n",
       "        vertical-align: top;\n",
       "    }\n",
       "\n",
       "    .dataframe thead th {\n",
       "        text-align: right;\n",
       "    }\n",
       "</style>\n",
       "<table border=\"1\" class=\"dataframe\">\n",
       "  <thead>\n",
       "    <tr style=\"text-align: right;\">\n",
       "      <th></th>\n",
       "      <th>Call Id</th>\n",
       "      <th>Agent</th>\n",
       "      <th>Date</th>\n",
       "      <th>Time</th>\n",
       "      <th>Topic</th>\n",
       "      <th>Answered (Y/N)</th>\n",
       "      <th>Resolved</th>\n",
       "      <th>Speed of answer in seconds</th>\n",
       "      <th>AvgTalkDuration</th>\n",
       "      <th>Satisfaction rating</th>\n",
       "    </tr>\n",
       "  </thead>\n",
       "  <tbody>\n",
       "    <tr>\n",
       "      <th>0</th>\n",
       "      <td>ID0001</td>\n",
       "      <td>Diane</td>\n",
       "      <td>2021-01-01</td>\n",
       "      <td>09:12:58</td>\n",
       "      <td>Contract related</td>\n",
       "      <td>Y</td>\n",
       "      <td>Y</td>\n",
       "      <td>109.0</td>\n",
       "      <td>00:02:23</td>\n",
       "      <td>3.0</td>\n",
       "    </tr>\n",
       "    <tr>\n",
       "      <th>1</th>\n",
       "      <td>ID0002</td>\n",
       "      <td>Becky</td>\n",
       "      <td>2021-01-01</td>\n",
       "      <td>09:12:58</td>\n",
       "      <td>Technical Support</td>\n",
       "      <td>Y</td>\n",
       "      <td>N</td>\n",
       "      <td>70.0</td>\n",
       "      <td>00:04:02</td>\n",
       "      <td>3.0</td>\n",
       "    </tr>\n",
       "    <tr>\n",
       "      <th>2</th>\n",
       "      <td>ID0003</td>\n",
       "      <td>Stewart</td>\n",
       "      <td>2021-01-01</td>\n",
       "      <td>09:47:31</td>\n",
       "      <td>Contract related</td>\n",
       "      <td>Y</td>\n",
       "      <td>Y</td>\n",
       "      <td>10.0</td>\n",
       "      <td>00:02:11</td>\n",
       "      <td>3.0</td>\n",
       "    </tr>\n",
       "    <tr>\n",
       "      <th>3</th>\n",
       "      <td>ID0004</td>\n",
       "      <td>Greg</td>\n",
       "      <td>2021-01-01</td>\n",
       "      <td>09:47:31</td>\n",
       "      <td>Contract related</td>\n",
       "      <td>Y</td>\n",
       "      <td>Y</td>\n",
       "      <td>53.0</td>\n",
       "      <td>00:00:37</td>\n",
       "      <td>2.0</td>\n",
       "    </tr>\n",
       "    <tr>\n",
       "      <th>4</th>\n",
       "      <td>ID0005</td>\n",
       "      <td>Becky</td>\n",
       "      <td>2021-01-01</td>\n",
       "      <td>10:00:29</td>\n",
       "      <td>Payment related</td>\n",
       "      <td>Y</td>\n",
       "      <td>Y</td>\n",
       "      <td>95.0</td>\n",
       "      <td>00:01:00</td>\n",
       "      <td>3.0</td>\n",
       "    </tr>\n",
       "  </tbody>\n",
       "</table>\n",
       "</div>"
      ],
      "text/plain": [
       "  Call Id    Agent        Date      Time              Topic Answered (Y/N)  \\\n",
       "0  ID0001    Diane  2021-01-01  09:12:58   Contract related              Y   \n",
       "1  ID0002    Becky  2021-01-01  09:12:58  Technical Support              Y   \n",
       "2  ID0003  Stewart  2021-01-01  09:47:31   Contract related              Y   \n",
       "3  ID0004     Greg  2021-01-01  09:47:31   Contract related              Y   \n",
       "4  ID0005    Becky  2021-01-01  10:00:29    Payment related              Y   \n",
       "\n",
       "  Resolved  Speed of answer in seconds AvgTalkDuration  Satisfaction rating  \n",
       "0        Y                       109.0        00:02:23                  3.0  \n",
       "1        N                        70.0        00:04:02                  3.0  \n",
       "2        Y                        10.0        00:02:11                  3.0  \n",
       "3        Y                        53.0        00:00:37                  2.0  \n",
       "4        Y                        95.0        00:01:00                  3.0  "
      ]
     },
     "execution_count": 7,
     "metadata": {},
     "output_type": "execute_result"
    }
   ],
   "source": [
    "data =pd.read_excel(\"/Users/vaishnavipullakhandam/Desktop/github/excel/Call-Center-Data.xlsx\")\n",
    "\n",
    "# Display the first few rows of the dataset\n",
    "data.head()"
   ]
  },
  {
   "cell_type": "code",
   "execution_count": 8,
   "metadata": {},
   "outputs": [
    {
     "name": "stdout",
     "output_type": "stream",
     "text": [
      "<class 'pandas.core.frame.DataFrame'>\n",
      "RangeIndex: 5000 entries, 0 to 4999\n",
      "Data columns (total 10 columns):\n",
      " #   Column                      Non-Null Count  Dtype  \n",
      "---  ------                      --------------  -----  \n",
      " 0   Call Id                     5000 non-null   object \n",
      " 1   Agent                       5000 non-null   object \n",
      " 2   Date                        5000 non-null   object \n",
      " 3   Time                        5000 non-null   object \n",
      " 4   Topic                       5000 non-null   object \n",
      " 5   Answered (Y/N)              5000 non-null   object \n",
      " 6   Resolved                    5000 non-null   object \n",
      " 7   Speed of answer in seconds  4054 non-null   float64\n",
      " 8   AvgTalkDuration             4054 non-null   object \n",
      " 9   Satisfaction rating         4054 non-null   float64\n",
      "dtypes: float64(2), object(8)\n",
      "memory usage: 390.8+ KB\n"
     ]
    }
   ],
   "source": [
    "# Display basic information about the data using the info method\n",
    "\n",
    "data.info()"
   ]
  },
  {
   "attachments": {},
   "cell_type": "markdown",
   "metadata": {},
   "source": [
    "##### STEP 2 : Data Cleaning\n",
    "\n",
    "Data cleaning is a crucial step in the data analysis process, ensuring that the dataset is accurate and ready for analysis. During this step, we handle missing values, fix data types, and address any inconsistencies in the data.\n",
    "\n",
    "- Handling Missing Values:\n",
    "Columns like Speed of answer in seconds, AvgTalkDuration, and Satisfaction rating contain missing values. We'll decide how to handle them (e.g., filling with averages, dropping rows, etc.).\n",
    "\n",
    "- If the column is important for analysis and the na values make up less than 5-10% of the total rows, replace with mean or median. \n",
    "\n",
    "-  If the column is not important and the na values make up over 20-30% of the rows, then it is better to drop them. Otherwise, filling too many values could distort the data.\n",
    "\n",
    "\n",
    "- Date and Time Conversion:\n",
    "The Date and Time columns are currently in string format. We need to convert them to proper datetime objects so they can be used for time-based analysis.\n",
    "\n",
    "\n",
    "- Categorical Data:\n",
    "Columns like Answered (Y/N) and Resolved are categorical variables but are stored as strings. We might consider encoding these values as 0/1 or keeping them as categories for better analysis.\n",
    "\n",
    "\n",
    "- Data Consistency:\n",
    "Ensure that data entries are consistent (e.g., uniform date formatting, removing unnecessary white spaces).\n",
    "\n"
   ]
  },
  {
   "cell_type": "code",
   "execution_count": 23,
   "metadata": {},
   "outputs": [
    {
     "data": {
      "text/plain": [
       "68.0"
      ]
     },
     "execution_count": 23,
     "metadata": {},
     "output_type": "execute_result"
    }
   ],
   "source": []
  },
  {
   "cell_type": "code",
   "execution_count": null,
   "metadata": {},
   "outputs": [],
   "source": []
  }
 ],
 "metadata": {
  "kernelspec": {
   "display_name": "Python 3",
   "language": "python",
   "name": "python3"
  },
  "language_info": {
   "codemirror_mode": {
    "name": "ipython",
    "version": 3
   },
   "file_extension": ".py",
   "mimetype": "text/x-python",
   "name": "python",
   "nbconvert_exporter": "python",
   "pygments_lexer": "ipython3",
   "version": "3.10.9"
  },
  "orig_nbformat": 4
 },
 "nbformat": 4,
 "nbformat_minor": 2
}
