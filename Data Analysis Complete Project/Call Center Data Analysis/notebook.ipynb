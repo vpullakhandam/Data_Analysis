{
 "cells": [
  {
   "attachments": {},
   "cell_type": "markdown",
   "metadata": {},
   "source": [
    "#### Customer Call Center Performance Analysis\n",
    "\n",
    "##### Data Overview\n",
    "The dataset has 5,000 entries and 10 columns. Here's a summary of the columns:\n",
    "\n",
    "- Call Id: Identifier for each call (e.g., ID0001)\n",
    "- Agent: Name of the agent who handled the call\n",
    "- Date: Date of the call (stored as a string)\n",
    "- CallStartTime: Time when the call started (stored as a string)\n",
    "- Topic: The topic discussed during the call (e.g.,Contract related, Technical Support)\n",
    "- Answered (Y/N): Whether the call was answered or not (Y for answered, N for unanswered)\n",
    "- Resolved: Whether the issue was resolved (Y for yes, N for no)\n",
    "- Speed of answer in seconds: The time taken to answer the call\n",
    "-CallEndTime: Time when the call ended (stored as a string)\n",
    "- AvgTalkDuration (in seconds): Average talk duration of the call \n",
    "- Satisfaction rating: A rating given for customer satisfaction\n",
    "\n",
    "\n",
    "##### Objective:\n",
    "\n",
    "The goal of this project is to analyze customer call center data to gain insights into the following:\n",
    "\n",
    "- Agent Performance: Identify top-performing agents based on factors like call resolution, speed of answer, and customer satisfaction ratings.\n",
    "- Call Topic Analysis: Determine which topics are most frequently discussed and how they impact call outcomes (answered, resolved, etc.).\n",
    "- Customer Satisfaction: Analyze the factors that influence customer satisfaction scores, such as speed of answer and resolution status.\n",
    "- Operational Efficiency: Evaluate how efficiently the call center operates, considering metrics like average talk duration and speed of answering.\n"
   ]
  },
  {
   "attachments": {},
   "cell_type": "markdown",
   "metadata": {},
   "source": [
    "##### STEP 1 : Data Loading and Inspection\n",
    "\n"
   ]
  },
  {
   "cell_type": "code",
   "execution_count": 200,
   "metadata": {},
   "outputs": [],
   "source": [
    "import pandas as pd"
   ]
  },
  {
   "cell_type": "code",
   "execution_count": 201,
   "metadata": {},
   "outputs": [
    {
     "data": {
      "text/html": [
       "<div>\n",
       "<style scoped>\n",
       "    .dataframe tbody tr th:only-of-type {\n",
       "        vertical-align: middle;\n",
       "    }\n",
       "\n",
       "    .dataframe tbody tr th {\n",
       "        vertical-align: top;\n",
       "    }\n",
       "\n",
       "    .dataframe thead th {\n",
       "        text-align: right;\n",
       "    }\n",
       "</style>\n",
       "<table border=\"1\" class=\"dataframe\">\n",
       "  <thead>\n",
       "    <tr style=\"text-align: right;\">\n",
       "      <th></th>\n",
       "      <th>Call Id</th>\n",
       "      <th>Agent</th>\n",
       "      <th>Date</th>\n",
       "      <th>CallStartTime</th>\n",
       "      <th>Topic</th>\n",
       "      <th>Answered (Y/N)</th>\n",
       "      <th>Resolved</th>\n",
       "      <th>Speed of answer (in seconds)</th>\n",
       "      <th>CallEndTime</th>\n",
       "      <th>AvgTalkDuration (inseconds)</th>\n",
       "      <th>Satisfaction rating</th>\n",
       "    </tr>\n",
       "  </thead>\n",
       "  <tbody>\n",
       "    <tr>\n",
       "      <th>0</th>\n",
       "      <td>ID0001</td>\n",
       "      <td>Diane</td>\n",
       "      <td>2021-01-01</td>\n",
       "      <td>09:12:58</td>\n",
       "      <td>Contract related</td>\n",
       "      <td>Y</td>\n",
       "      <td>Y</td>\n",
       "      <td>109.0</td>\n",
       "      <td>00:02:23</td>\n",
       "      <td>5.605679</td>\n",
       "      <td>3.0</td>\n",
       "    </tr>\n",
       "    <tr>\n",
       "      <th>1</th>\n",
       "      <td>ID0002</td>\n",
       "      <td>Becky</td>\n",
       "      <td>2021-01-01</td>\n",
       "      <td>09:12:58</td>\n",
       "      <td>Technical Support</td>\n",
       "      <td>Y</td>\n",
       "      <td>N</td>\n",
       "      <td>70.0</td>\n",
       "      <td>00:04:02</td>\n",
       "      <td>5.585883</td>\n",
       "      <td>3.0</td>\n",
       "    </tr>\n",
       "    <tr>\n",
       "      <th>2</th>\n",
       "      <td>ID0003</td>\n",
       "      <td>Stewart</td>\n",
       "      <td>2021-01-01</td>\n",
       "      <td>09:47:31</td>\n",
       "      <td>Contract related</td>\n",
       "      <td>Y</td>\n",
       "      <td>Y</td>\n",
       "      <td>10.0</td>\n",
       "      <td>00:02:11</td>\n",
       "      <td>6.022595</td>\n",
       "      <td>3.0</td>\n",
       "    </tr>\n",
       "    <tr>\n",
       "      <th>3</th>\n",
       "      <td>ID0004</td>\n",
       "      <td>Greg</td>\n",
       "      <td>2021-01-01</td>\n",
       "      <td>09:47:31</td>\n",
       "      <td>Contract related</td>\n",
       "      <td>Y</td>\n",
       "      <td>Y</td>\n",
       "      <td>53.0</td>\n",
       "      <td>00:00:37</td>\n",
       "      <td>6.041392</td>\n",
       "      <td>2.0</td>\n",
       "    </tr>\n",
       "    <tr>\n",
       "      <th>4</th>\n",
       "      <td>ID0005</td>\n",
       "      <td>Becky</td>\n",
       "      <td>2021-01-01</td>\n",
       "      <td>10:00:29</td>\n",
       "      <td>Payment related</td>\n",
       "      <td>Y</td>\n",
       "      <td>Y</td>\n",
       "      <td>95.0</td>\n",
       "      <td>00:01:00</td>\n",
       "      <td>6.192362</td>\n",
       "      <td>3.0</td>\n",
       "    </tr>\n",
       "  </tbody>\n",
       "</table>\n",
       "</div>"
      ],
      "text/plain": [
       "  Call Id    Agent        Date CallStartTime              Topic  \\\n",
       "0  ID0001    Diane  2021-01-01      09:12:58   Contract related   \n",
       "1  ID0002    Becky  2021-01-01      09:12:58  Technical Support   \n",
       "2  ID0003  Stewart  2021-01-01      09:47:31   Contract related   \n",
       "3  ID0004     Greg  2021-01-01      09:47:31   Contract related   \n",
       "4  ID0005    Becky  2021-01-01      10:00:29    Payment related   \n",
       "\n",
       "  Answered (Y/N) Resolved  Speed of answer (in seconds) CallEndTime  \\\n",
       "0              Y        Y                         109.0    00:02:23   \n",
       "1              Y        N                          70.0    00:04:02   \n",
       "2              Y        Y                          10.0    00:02:11   \n",
       "3              Y        Y                          53.0    00:00:37   \n",
       "4              Y        Y                          95.0    00:01:00   \n",
       "\n",
       "   AvgTalkDuration (inseconds)  Satisfaction rating  \n",
       "0                     5.605679                  3.0  \n",
       "1                     5.585883                  3.0  \n",
       "2                     6.022595                  3.0  \n",
       "3                     6.041392                  2.0  \n",
       "4                     6.192362                  3.0  "
      ]
     },
     "execution_count": 201,
     "metadata": {},
     "output_type": "execute_result"
    }
   ],
   "source": [
    "data =pd.read_excel(\"/Users/vaishnavipullakhandam/Desktop/github/excel/Call-Center-Data.xlsx\")\n",
    "\n",
    "# Display the first few rows of the dataset\n",
    "data.head()"
   ]
  },
  {
   "cell_type": "code",
   "execution_count": 202,
   "metadata": {},
   "outputs": [
    {
     "name": "stdout",
     "output_type": "stream",
     "text": [
      "<class 'pandas.core.frame.DataFrame'>\n",
      "RangeIndex: 5000 entries, 0 to 4999\n",
      "Data columns (total 11 columns):\n",
      " #   Column                        Non-Null Count  Dtype  \n",
      "---  ------                        --------------  -----  \n",
      " 0   Call Id                       5000 non-null   object \n",
      " 1   Agent                         5000 non-null   object \n",
      " 2   Date                          5000 non-null   object \n",
      " 3   CallStartTime                 5000 non-null   object \n",
      " 4   Topic                         5000 non-null   object \n",
      " 5   Answered (Y/N)                5000 non-null   object \n",
      " 6   Resolved                      5000 non-null   object \n",
      " 7   Speed of answer (in seconds)  4054 non-null   float64\n",
      " 8   CallEndTime                   4054 non-null   object \n",
      " 9   AvgTalkDuration (inseconds)   5000 non-null   float64\n",
      " 10  Satisfaction rating           4054 non-null   float64\n",
      "dtypes: float64(3), object(8)\n",
      "memory usage: 429.8+ KB\n"
     ]
    }
   ],
   "source": [
    "# Display basic information about the data using the info method\n",
    "\n",
    "data.info()"
   ]
  },
  {
   "attachments": {},
   "cell_type": "markdown",
   "metadata": {},
   "source": [
    "##### STEP 2 : Data Cleaning\n",
    "\n",
    "Data cleaning is a crucial step in the data analysis process, ensuring that the dataset is accurate and ready for analysis. During this step, we handle missing values, fix data types, and address any inconsistencies in the data.\n",
    "\n",
    "- 1. Handling Missing Values:\n",
    "Columns like Speed of answer in seconds, AvgTalkDuration, and Satisfaction rating contain missing values. We'll decide how to handle them (e.g., filling with averages, dropping rows, etc.).\n",
    "\n",
    "- If the column is important for analysis and the na values make up less than 5-10% of the total rows, replace with mean or median. \n",
    "\n",
    "-  If the column is not important and the na values make up over 20-30% of the rows, then it is better to drop them. Otherwise, filling too many values could distort the data.\n",
    "\n",
    "\n",
    "- 2. Date Type Formatting\n",
    "The Date and Time columns are currently in string format. We need to convert them to proper datetime objects so they can be used for time-based analysis. Also, Satisfacting rating should be in integer format.\n",
    "\n",
    "\n",
    "- 3. Categorical Data:\n",
    "Columns like Answered (Y/N) and Resolved are categorical variables but are stored as strings. We might consider encoding these values as 0/1 or keeping them as categories for better analysis.\n",
    "\n"
   ]
  },
  {
   "cell_type": "code",
   "execution_count": 203,
   "metadata": {},
   "outputs": [
    {
     "name": "stdout",
     "output_type": "stream",
     "text": [
      "Call Id                           0\n",
      "Agent                             0\n",
      "Date                              0\n",
      "CallStartTime                     0\n",
      "Topic                             0\n",
      "Answered (Y/N)                    0\n",
      "Resolved                          0\n",
      "Speed of answer (in seconds)    946\n",
      "CallEndTime                     946\n",
      "AvgTalkDuration (inseconds)       0\n",
      "Satisfaction rating             946\n",
      "dtype: int64\n"
     ]
    }
   ],
   "source": [
    "# Step 2.1.1 : Checking Missing Values\n",
    "\n",
    "missing_values = data.isnull().sum()\n",
    "print(missing_values)"
   ]
  },
  {
   "cell_type": "code",
   "execution_count": 204,
   "metadata": {},
   "outputs": [
    {
     "name": "stdout",
     "output_type": "stream",
     "text": [
      "Call Id                          0.00\n",
      "Agent                            0.00\n",
      "Date                             0.00\n",
      "CallStartTime                    0.00\n",
      "Topic                            0.00\n",
      "Answered (Y/N)                   0.00\n",
      "Resolved                         0.00\n",
      "Speed of answer (in seconds)    18.92\n",
      "CallEndTime                     18.92\n",
      "AvgTalkDuration (inseconds)      0.00\n",
      "Satisfaction rating             18.92\n",
      "dtype: float64\n"
     ]
    }
   ],
   "source": [
    "# Step 2.1.2 : Handling Missing Values\n",
    "'''\n",
    "We have missing values in the following columns:\n",
    "\n",
    "Speed of answer (in seconds) → 946 missing values\n",
    "CallEndTime → 946 missing values\n",
    "Satisfaction rating → 946 missing values\n",
    "\n",
    "'''\n",
    "\n",
    "# Calculate the percentage of missing values\n",
    "missing_percentage = (missing_values / len(data)) * 100\n",
    "\n",
    "# Display missing percentage\n",
    "print(missing_percentage)\n"
   ]
  },
  {
   "cell_type": "code",
   "execution_count": 205,
   "metadata": {},
   "outputs": [],
   "source": [
    "import matplotlib.pyplot as plt\n",
    "import seaborn as sns"
   ]
  },
  {
   "cell_type": "code",
   "execution_count": 206,
   "metadata": {},
   "outputs": [
    {
     "name": "stdout",
     "output_type": "stream",
     "text": [
      "67.52072027627035\n",
      "68.0\n",
      "Original Mean (Mean1): 3.4035520473606313\n",
      "Mean after filling with Median (Mean2): 3.3272\n",
      "Mean after filling with Mode (Mean3): 3.3272\n"
     ]
    },
    {
     "name": "stderr",
     "output_type": "stream",
     "text": [
      "/var/folders/52/ns3sdnhj22n2q3hsq7mpbgv40000gn/T/ipykernel_93508/2207114608.py:39: FutureWarning: A value is trying to be set on a copy of a DataFrame or Series through chained assignment using an inplace method.\n",
      "The behavior will change in pandas 3.0. This inplace method will never work because the intermediate object on which we are setting values always behaves as a copy.\n",
      "\n",
      "For example, when doing 'df[col].method(value, inplace=True)', try using 'df.method({col: value}, inplace=True)' or df[col] = df[col].method(value) instead, to perform the operation inplace on the original object.\n",
      "\n",
      "\n",
      "  df_median['Satisfaction rating'].fillna(median_value, inplace=True)\n",
      "/var/folders/52/ns3sdnhj22n2q3hsq7mpbgv40000gn/T/ipykernel_93508/2207114608.py:45: FutureWarning: A value is trying to be set on a copy of a DataFrame or Series through chained assignment using an inplace method.\n",
      "The behavior will change in pandas 3.0. This inplace method will never work because the intermediate object on which we are setting values always behaves as a copy.\n",
      "\n",
      "For example, when doing 'df[col].method(value, inplace=True)', try using 'df.method({col: value}, inplace=True)' or df[col] = df[col].method(value) instead, to perform the operation inplace on the original object.\n",
      "\n",
      "\n",
      "  df_mode['Satisfaction rating'].fillna(mode_value, inplace=True)\n"
     ]
    },
    {
     "data": {
      "image/png": "[encoded data removed]",
      "text/plain": [
       "<Figure size 640x480 with 1 Axes>"
      ]
     },
     "metadata": {},
     "output_type": "display_data"
    }
   ],
   "source": [
    "'''\n",
    "Step 2.1.3: Deciding How to Handle Missing Values\n",
    "\n",
    "Speed of answer (in seconds) and Satisfaction rating are important for analysis, so we should fill them with an appropriate value (mean or median).\n",
    "\n",
    "CallEndTime is not essential because we already have CallStartTime and AvgTalkDuration. Since it has 18.92% missing values, we should drop this column to avoid distortion.\n",
    "\n",
    "'''\n",
    "\n",
    "# Boxplot for Speed of answer (in seconds)\n",
    "plt.subplot(1, 2, 1)\n",
    "sns.boxplot(y=data[\"Speed of answer (in seconds)\"])\n",
    "plt.title(\"Boxplot of Speed of Answer (in seconds)\")\n",
    "\n",
    "\n",
    "# Check if Speed Of Answer is a normal distribution. \n",
    "'''\n",
    "\n",
    "In a normal distribution, mean ≈ median, meaning they represent the data equally well.\n",
    "Since there are no extreme outliers (as seen in the boxplot), the mean won't be heavily skewed.\n",
    "Using the mean ensures that the overall distribution remains unchanged.\n",
    "\n",
    "'''\n",
    "checking_mean=data[\"Speed of answer (in seconds)\"].mean()\n",
    "print(checking_mean)\n",
    "checking_median=data[\"Speed of answer (in seconds)\"].median()\n",
    "print(checking_median)\n",
    "\n",
    "'''\n",
    "Satisfaction rating is a categorical column because it decides the satisfaction of the customer, we have to be careful not to influence the actual mean while replacing the Nan values.\n",
    "'''\n",
    "\n",
    "# Step 1: Compute original mean\n",
    "mean1 = data['Satisfaction rating'].mean()\n",
    "\n",
    "# Step 2: Fill missing values with median and compute new mean\n",
    "median_value = data['Satisfaction rating'].median()\n",
    "df_median = data.copy()\n",
    "df_median['Satisfaction rating'].fillna(median_value, inplace=True)\n",
    "mean2 = df_median['Satisfaction rating'].mean()\n",
    "\n",
    "# Step 3: Fill missing values with mode and compute new mean\n",
    "mode_value = data['Satisfaction rating'].mode()[0]  # Mode can return multiple values, so we take the first one\n",
    "df_mode = data.copy()\n",
    "df_mode['Satisfaction rating'].fillna(mode_value, inplace=True)\n",
    "mean3 = df_mode['Satisfaction rating'].mean()\n",
    "\n",
    "# Step 4: Compare Mean1, Mean2, and Mean3\n",
    "print(\"Original Mean (Mean1):\", mean1)\n",
    "print(\"Mean after filling with Median (Mean2):\", mean2)\n",
    "print(\"Mean after filling with Mode (Mean3):\", mean3)\n",
    "\n"
   ]
  },
  {
   "cell_type": "code",
   "execution_count": 207,
   "metadata": {},
   "outputs": [
    {
     "name": "stderr",
     "output_type": "stream",
     "text": [
      "/var/folders/52/ns3sdnhj22n2q3hsq7mpbgv40000gn/T/ipykernel_93508/3826096527.py:7: FutureWarning: A value is trying to be set on a copy of a DataFrame or Series through chained assignment using an inplace method.\n",
      "The behavior will change in pandas 3.0. This inplace method will never work because the intermediate object on which we are setting values always behaves as a copy.\n",
      "\n",
      "For example, when doing 'df[col].method(value, inplace=True)', try using 'df.method({col: value}, inplace=True)' or df[col] = df[col].method(value) instead, to perform the operation inplace on the original object.\n",
      "\n",
      "\n",
      "  data['Speed of answer (in seconds)'].fillna(data['Speed of answer (in seconds)'].mean(), inplace=True)\n",
      "/var/folders/52/ns3sdnhj22n2q3hsq7mpbgv40000gn/T/ipykernel_93508/3826096527.py:17: FutureWarning: A value is trying to be set on a copy of a DataFrame or Series through chained assignment using an inplace method.\n",
      "The behavior will change in pandas 3.0. This inplace method will never work because the intermediate object on which we are setting values always behaves as a copy.\n",
      "\n",
      "For example, when doing 'df[col].method(value, inplace=True)', try using 'df.method({col: value}, inplace=True)' or df[col] = df[col].method(value) instead, to perform the operation inplace on the original object.\n",
      "\n",
      "\n",
      "  data['Satisfaction rating'].fillna(median_value, inplace=True)\n"
     ]
    }
   ],
   "source": [
    "'''\n",
    "Step 2.1.4: Handling Missing Values \n",
    "\n",
    "We can see that mean ≈ median so we can use mean to replace the Nan values in Speed Of Answer column.\n",
    "'''\n",
    "\n",
    "data['Speed of answer (in seconds)'].fillna(data['Speed of answer (in seconds)'].mean(), inplace=True)\n",
    "\n",
    "# Drop 'CallEndTime' column\n",
    "data.drop(columns=['CallEndTime'], inplace=True)\n",
    "\n",
    "\n",
    "'''\n",
    "Since both median and mode give almost the same mean after filling, the median is usually the safer choice in this case. The median is robust to outliers, meaning it won’t get affected if there are extreme values in the dataset.\n",
    "'''\n",
    "\n",
    "data['Satisfaction rating'].fillna(median_value, inplace=True)\n",
    "\n"
   ]
  },
  {
   "cell_type": "code",
   "execution_count": 208,
   "metadata": {},
   "outputs": [
    {
     "name": "stdout",
     "output_type": "stream",
     "text": [
      "<class 'pandas.core.frame.DataFrame'>\n",
      "RangeIndex: 5000 entries, 0 to 4999\n",
      "Data columns (total 10 columns):\n",
      " #   Column                        Non-Null Count  Dtype  \n",
      "---  ------                        --------------  -----  \n",
      " 0   Call Id                       5000 non-null   object \n",
      " 1   Agent                         5000 non-null   object \n",
      " 2   Date                          5000 non-null   object \n",
      " 3   CallStartTime                 5000 non-null   object \n",
      " 4   Topic                         5000 non-null   object \n",
      " 5   Answered (Y/N)                5000 non-null   object \n",
      " 6   Resolved                      5000 non-null   object \n",
      " 7   Speed of answer (in seconds)  5000 non-null   float64\n",
      " 8   AvgTalkDuration (inseconds)   5000 non-null   float64\n",
      " 9   Satisfaction rating           5000 non-null   float64\n",
      "dtypes: float64(3), object(7)\n",
      "memory usage: 390.8+ KB\n"
     ]
    },
    {
     "data": {
      "text/html": [
       "<div>\n",
       "<style scoped>\n",
       "    .dataframe tbody tr th:only-of-type {\n",
       "        vertical-align: middle;\n",
       "    }\n",
       "\n",
       "    .dataframe tbody tr th {\n",
       "        vertical-align: top;\n",
       "    }\n",
       "\n",
       "    .dataframe thead th {\n",
       "        text-align: right;\n",
       "    }\n",
       "</style>\n",
       "<table border=\"1\" class=\"dataframe\">\n",
       "  <thead>\n",
       "    <tr style=\"text-align: right;\">\n",
       "      <th></th>\n",
       "      <th>Call Id</th>\n",
       "      <th>Agent</th>\n",
       "      <th>Date</th>\n",
       "      <th>CallStartTime</th>\n",
       "      <th>Topic</th>\n",
       "      <th>Answered (Y/N)</th>\n",
       "      <th>Resolved</th>\n",
       "      <th>Speed of answer (in seconds)</th>\n",
       "      <th>AvgTalkDuration (inseconds)</th>\n",
       "      <th>Satisfaction rating</th>\n",
       "    </tr>\n",
       "  </thead>\n",
       "  <tbody>\n",
       "    <tr>\n",
       "      <th>0</th>\n",
       "      <td>ID0001</td>\n",
       "      <td>Diane</td>\n",
       "      <td>2021-01-01</td>\n",
       "      <td>09:12:58</td>\n",
       "      <td>Contract related</td>\n",
       "      <td>Y</td>\n",
       "      <td>Y</td>\n",
       "      <td>109.0</td>\n",
       "      <td>5.605679</td>\n",
       "      <td>3.0</td>\n",
       "    </tr>\n",
       "    <tr>\n",
       "      <th>1</th>\n",
       "      <td>ID0002</td>\n",
       "      <td>Becky</td>\n",
       "      <td>2021-01-01</td>\n",
       "      <td>09:12:58</td>\n",
       "      <td>Technical Support</td>\n",
       "      <td>Y</td>\n",
       "      <td>N</td>\n",
       "      <td>70.0</td>\n",
       "      <td>5.585883</td>\n",
       "      <td>3.0</td>\n",
       "    </tr>\n",
       "    <tr>\n",
       "      <th>2</th>\n",
       "      <td>ID0003</td>\n",
       "      <td>Stewart</td>\n",
       "      <td>2021-01-01</td>\n",
       "      <td>09:47:31</td>\n",
       "      <td>Contract related</td>\n",
       "      <td>Y</td>\n",
       "      <td>Y</td>\n",
       "      <td>10.0</td>\n",
       "      <td>6.022595</td>\n",
       "      <td>3.0</td>\n",
       "    </tr>\n",
       "    <tr>\n",
       "      <th>3</th>\n",
       "      <td>ID0004</td>\n",
       "      <td>Greg</td>\n",
       "      <td>2021-01-01</td>\n",
       "      <td>09:47:31</td>\n",
       "      <td>Contract related</td>\n",
       "      <td>Y</td>\n",
       "      <td>Y</td>\n",
       "      <td>53.0</td>\n",
       "      <td>6.041392</td>\n",
       "      <td>2.0</td>\n",
       "    </tr>\n",
       "    <tr>\n",
       "      <th>4</th>\n",
       "      <td>ID0005</td>\n",
       "      <td>Becky</td>\n",
       "      <td>2021-01-01</td>\n",
       "      <td>10:00:29</td>\n",
       "      <td>Payment related</td>\n",
       "      <td>Y</td>\n",
       "      <td>Y</td>\n",
       "      <td>95.0</td>\n",
       "      <td>6.192362</td>\n",
       "      <td>3.0</td>\n",
       "    </tr>\n",
       "  </tbody>\n",
       "</table>\n",
       "</div>"
      ],
      "text/plain": [
       "  Call Id    Agent        Date CallStartTime              Topic  \\\n",
       "0  ID0001    Diane  2021-01-01      09:12:58   Contract related   \n",
       "1  ID0002    Becky  2021-01-01      09:12:58  Technical Support   \n",
       "2  ID0003  Stewart  2021-01-01      09:47:31   Contract related   \n",
       "3  ID0004     Greg  2021-01-01      09:47:31   Contract related   \n",
       "4  ID0005    Becky  2021-01-01      10:00:29    Payment related   \n",
       "\n",
       "  Answered (Y/N) Resolved  Speed of answer (in seconds)  \\\n",
       "0              Y        Y                         109.0   \n",
       "1              Y        N                          70.0   \n",
       "2              Y        Y                          10.0   \n",
       "3              Y        Y                          53.0   \n",
       "4              Y        Y                          95.0   \n",
       "\n",
       "   AvgTalkDuration (inseconds)  Satisfaction rating  \n",
       "0                     5.605679                  3.0  \n",
       "1                     5.585883                  3.0  \n",
       "2                     6.022595                  3.0  \n",
       "3                     6.041392                  2.0  \n",
       "4                     6.192362                  3.0  "
      ]
     },
     "execution_count": 208,
     "metadata": {},
     "output_type": "execute_result"
    }
   ],
   "source": [
    "'''\n",
    "Step 2.1.4 : Recheck the data\n",
    "'''\n",
    "\n",
    "data.info()\n",
    "data.head()"
   ]
  },
  {
   "cell_type": "code",
   "execution_count": 209,
   "metadata": {},
   "outputs": [],
   "source": [
    "'''\n",
    "Step 2.2 : Data Type Formatting\n",
    "\n",
    "'''\n",
    "\n",
    "# Step 2.2.1: Changing Date column to a proper date format (YYYY-MM-DD)\n",
    "data['Date'] = pd.to_datetime(data['Date'], format='%Y-%m-%d')\n",
    "#Convert 'CallStartTime' to time format\n",
    "data['CallStartTime'] = pd.to_datetime(data['CallStartTime'], format='%H:%M:%S', errors='coerce').dt.time\n",
    "\n",
    "\n",
    "# Convert 'Satisfaction rating' to integer\n",
    "data['Satisfaction rating'] = data['Satisfaction rating'].astype(int)\n"
   ]
  },
  {
   "cell_type": "code",
   "execution_count": 210,
   "metadata": {},
   "outputs": [],
   "source": [
    "'''\n",
    "Step 2.3 : Turning Categorical Values into 1/0\n",
    "\n",
    "From YES/NO to 1/0\n",
    "'''\n",
    "\n",
    "# This step will be revisited later if we require it for our analysis. As of right now, we are satisfied with the Categorical Values YES/NO!\n",
    "\n",
    "data['Answered (Y/N)'] = data['Answered (Y/N)'].astype('category')\n",
    "data['Resolved'] = data['Resolved'].astype('category')\n",
    "\n",
    "\n"
   ]
  },
  {
   "cell_type": "code",
   "execution_count": 211,
   "metadata": {},
   "outputs": [
    {
     "data": {
      "text/html": [
       "<div>\n",
       "<style scoped>\n",
       "    .dataframe tbody tr th:only-of-type {\n",
       "        vertical-align: middle;\n",
       "    }\n",
       "\n",
       "    .dataframe tbody tr th {\n",
       "        vertical-align: top;\n",
       "    }\n",
       "\n",
       "    .dataframe thead th {\n",
       "        text-align: right;\n",
       "    }\n",
       "</style>\n",
       "<table border=\"1\" class=\"dataframe\">\n",
       "  <thead>\n",
       "    <tr style=\"text-align: right;\">\n",
       "      <th></th>\n",
       "      <th>Call Id</th>\n",
       "      <th>Agent</th>\n",
       "      <th>Date</th>\n",
       "      <th>CallStartTime</th>\n",
       "      <th>Topic</th>\n",
       "      <th>Answered (Y/N)</th>\n",
       "      <th>Resolved</th>\n",
       "      <th>Speed of answer (in seconds)</th>\n",
       "      <th>AvgTalkDuration (inseconds)</th>\n",
       "      <th>Satisfaction rating</th>\n",
       "    </tr>\n",
       "  </thead>\n",
       "  <tbody>\n",
       "    <tr>\n",
       "      <th>0</th>\n",
       "      <td>ID0001</td>\n",
       "      <td>Diane</td>\n",
       "      <td>2021-01-01</td>\n",
       "      <td>09:12:58</td>\n",
       "      <td>Contract related</td>\n",
       "      <td>Y</td>\n",
       "      <td>Y</td>\n",
       "      <td>109.0</td>\n",
       "      <td>5.605679</td>\n",
       "      <td>3</td>\n",
       "    </tr>\n",
       "    <tr>\n",
       "      <th>1</th>\n",
       "      <td>ID0002</td>\n",
       "      <td>Becky</td>\n",
       "      <td>2021-01-01</td>\n",
       "      <td>09:12:58</td>\n",
       "      <td>Technical Support</td>\n",
       "      <td>Y</td>\n",
       "      <td>N</td>\n",
       "      <td>70.0</td>\n",
       "      <td>5.585883</td>\n",
       "      <td>3</td>\n",
       "    </tr>\n",
       "    <tr>\n",
       "      <th>2</th>\n",
       "      <td>ID0003</td>\n",
       "      <td>Stewart</td>\n",
       "      <td>2021-01-01</td>\n",
       "      <td>09:47:31</td>\n",
       "      <td>Contract related</td>\n",
       "      <td>Y</td>\n",
       "      <td>Y</td>\n",
       "      <td>10.0</td>\n",
       "      <td>6.022595</td>\n",
       "      <td>3</td>\n",
       "    </tr>\n",
       "    <tr>\n",
       "      <th>3</th>\n",
       "      <td>ID0004</td>\n",
       "      <td>Greg</td>\n",
       "      <td>2021-01-01</td>\n",
       "      <td>09:47:31</td>\n",
       "      <td>Contract related</td>\n",
       "      <td>Y</td>\n",
       "      <td>Y</td>\n",
       "      <td>53.0</td>\n",
       "      <td>6.041392</td>\n",
       "      <td>2</td>\n",
       "    </tr>\n",
       "    <tr>\n",
       "      <th>4</th>\n",
       "      <td>ID0005</td>\n",
       "      <td>Becky</td>\n",
       "      <td>2021-01-01</td>\n",
       "      <td>10:00:29</td>\n",
       "      <td>Payment related</td>\n",
       "      <td>Y</td>\n",
       "      <td>Y</td>\n",
       "      <td>95.0</td>\n",
       "      <td>6.192362</td>\n",
       "      <td>3</td>\n",
       "    </tr>\n",
       "  </tbody>\n",
       "</table>\n",
       "</div>"
      ],
      "text/plain": [
       "  Call Id    Agent       Date CallStartTime              Topic Answered (Y/N)  \\\n",
       "0  ID0001    Diane 2021-01-01      09:12:58   Contract related              Y   \n",
       "1  ID0002    Becky 2021-01-01      09:12:58  Technical Support              Y   \n",
       "2  ID0003  Stewart 2021-01-01      09:47:31   Contract related              Y   \n",
       "3  ID0004     Greg 2021-01-01      09:47:31   Contract related              Y   \n",
       "4  ID0005    Becky 2021-01-01      10:00:29    Payment related              Y   \n",
       "\n",
       "  Resolved  Speed of answer (in seconds)  AvgTalkDuration (inseconds)  \\\n",
       "0        Y                         109.0                     5.605679   \n",
       "1        N                          70.0                     5.585883   \n",
       "2        Y                          10.0                     6.022595   \n",
       "3        Y                          53.0                     6.041392   \n",
       "4        Y                          95.0                     6.192362   \n",
       "\n",
       "   Satisfaction rating  \n",
       "0                    3  \n",
       "1                    3  \n",
       "2                    3  \n",
       "3                    2  \n",
       "4                    3  "
      ]
     },
     "execution_count": 211,
     "metadata": {},
     "output_type": "execute_result"
    }
   ],
   "source": [
    "# This is the cleaned dataset\n",
    "\n",
    "data.head()"
   ]
  },
  {
   "attachments": {},
   "cell_type": "markdown",
   "metadata": {},
   "source": [
    "##### STEP 3 : EDA\n",
    "Exploratory Data Analysis (EDA) is the process of analyzing and visualizing data to identify patterns, detect anomalies, test hypotheses, and check assumptions before building models or making decisions.\n",
    "\n",
    "EDA helps answer key questions about the data:\n",
    "- What are the distributions of numerical variables?\n",
    "- Are there any missing values or outliers affecting insights?\n",
    "- How do different variables relate to each other?\n",
    "- What trends, patterns, or correlations exist?\n",
    "\n"
   ]
  },
  {
   "cell_type": "code",
   "execution_count": 212,
   "metadata": {},
   "outputs": [
    {
     "name": "stdout",
     "output_type": "stream",
     "text": [
      "       Speed of answer (in seconds)  AvgTalkDuration (inseconds)  \\\n",
      "count                   5000.000000                  5000.000000   \n",
      "mean                      67.520720                     8.699002   \n",
      "std                       30.247806                     1.888072   \n",
      "min                       10.000000                     5.402320   \n",
      "25%                       45.000000                     7.092731   \n",
      "50%                       67.520720                     8.674865   \n",
      "75%                       90.000000                    10.367926   \n",
      "max                      125.000000                    11.957409   \n",
      "\n",
      "       Satisfaction rating  \n",
      "count          5000.000000  \n",
      "mean              3.327200  \n",
      "std               1.102898  \n",
      "min               1.000000  \n",
      "25%               3.000000  \n",
      "50%               3.000000  \n",
      "75%               4.000000  \n",
      "max               5.000000  \n",
      "\n",
      "Call Id                         0\n",
      "Agent                           0\n",
      "Date                            0\n",
      "CallStartTime                   0\n",
      "Topic                           0\n",
      "Answered (Y/N)                  0\n",
      "Resolved                        0\n",
      "Speed of answer (in seconds)    0\n",
      "AvgTalkDuration (inseconds)     0\n",
      "Satisfaction rating             0\n",
      "dtype: int64\n"
     ]
    }
   ],
   "source": [
    "# Step 3.1 : Summary Statistics\n",
    "\n",
    "description=data.select_dtypes(include=['number']).describe()\n",
    "print(description)\n",
    "print()\n",
    "# Checking missing values using .isnull().sum()\n",
    "\n",
    "print(data.isnull().sum())\n"
   ]
  },
  {
   "cell_type": "code",
   "execution_count": 213,
   "metadata": {},
   "outputs": [
    {
     "name": "stdout",
     "output_type": "stream",
     "text": [
      "\n",
      "Unique values in Agent:\n",
      "Agent\n",
      "Jim        666\n",
      "Martha     638\n",
      "Diane      633\n",
      "Dan        633\n",
      "Becky      631\n",
      "Greg       624\n",
      "Joe        593\n",
      "Stewart    582\n",
      "Name: count, dtype: int64\n",
      "\n",
      "Unique values in Topic:\n",
      "Topic\n",
      "Streaming            1022\n",
      "Technical Support    1019\n",
      "Payment related      1007\n",
      "Contract related      976\n",
      "Admin Support         976\n",
      "Name: count, dtype: int64\n",
      "\n",
      "Unique values in Answered (Y/N):\n",
      "Answered (Y/N)\n",
      "Y    4054\n",
      "N     946\n",
      "Name: count, dtype: int64\n",
      "\n",
      "Unique values in Resolved:\n",
      "Resolved\n",
      "Y    3646\n",
      "N    1354\n",
      "Name: count, dtype: int64\n"
     ]
    }
   ],
   "source": [
    "# Step 3.2 : Count of unique values for categorical columns\n",
    "\n",
    "categorical_cols = [\"Agent\", \"Topic\", \"Answered (Y/N)\", \"Resolved\"]\n",
    "for col in categorical_cols:\n",
    "    print(f\"\\nUnique values in {col}:\")\n",
    "    print(data[col].value_counts())\n"
   ]
  },
  {
   "cell_type": "code",
   "execution_count": 214,
   "metadata": {},
   "outputs": [
    {
     "name": "stderr",
     "output_type": "stream",
     "text": [
      "/Users/vaishnavipullakhandam/anaconda3/lib/python3.10/site-packages/seaborn/_oldcore.py:1119: FutureWarning: use_inf_as_na option is deprecated and will be removed in a future version. Convert inf values to NaN before operating instead.\n",
      "  with pd.option_context('mode.use_inf_as_na', True):\n",
      "/Users/vaishnavipullakhandam/anaconda3/lib/python3.10/site-packages/seaborn/_oldcore.py:1119: FutureWarning: use_inf_as_na option is deprecated and will be removed in a future version. Convert inf values to NaN before operating instead.\n",
      "  with pd.option_context('mode.use_inf_as_na', True):\n",
      "/Users/vaishnavipullakhandam/anaconda3/lib/python3.10/site-packages/seaborn/_oldcore.py:1119: FutureWarning: use_inf_as_na option is deprecated and will be removed in a future version. Convert inf values to NaN before operating instead.\n",
      "  with pd.option_context('mode.use_inf_as_na', True):\n"
     ]
    },
    {
     "data": {
      "image/png": "[encoded data removed]",
      "text/plain": [
       "<Figure size 1500x500 with 3 Axes>"
      ]
     },
     "metadata": {},
     "output_type": "display_data"
    },
    {
     "data": {
      "image/png": "[encoded data removed]",
      "text/plain": [
       "<Figure size 1500x500 with 3 Axes>"
      ]
     },
     "metadata": {},
     "output_type": "display_data"
    }
   ],
   "source": [
    "# Step 3.3 : Distributions of Key Variables\n",
    "\n",
    "numerical_cols = [\"Speed of answer (in seconds)\", \"AvgTalkDuration (inseconds)\", \"Satisfaction rating\"]\n",
    "\n",
    "plt.figure(figsize=(15, 5))\n",
    "#enumerate(iterable, start=0)\n",
    "for i, col in enumerate(numerical_cols,1):\n",
    "    plt.subplot(1, 3, i)\n",
    "    # subplot(rows,columns,index) => it starts from 1 only, does not identify 0\n",
    "    sns.histplot(data[col], kde=True) #Kernel Density Estimation (KDE)\n",
    "    plt.title(f\"Distribution of {col}\")\n",
    "\n",
    "plt.show()\n",
    "\n",
    "# Boxplots to check for outliers\n",
    "plt.figure(figsize=(15, 5))\n",
    "for i, col in enumerate(numerical_cols, 1):\n",
    "    plt.subplot(1, 3, i)\n",
    "    sns.boxplot(x=data[col])\n",
    "    plt.title(f\"Boxplot of {col}\")\n",
    "\n",
    "plt.show()"
   ]
  },
  {
   "attachments": {},
   "cell_type": "markdown",
   "metadata": {},
   "source": [
    "##### Understanding the Components of a Box Plot\n",
    "\n",
    "\n",
    "- Median (Q2 - 50th percentile): The middle value of the dataset (bold line inside the box).\n",
    "- First Quartile (Q1 - 25th percentile): The value below which 25% of the data lies (left edge of the box).\n",
    "- Third Quartile (Q3 - 75th percentile): The value below which 75% of the data lies (right edge of the box).\n",
    "- Interquartile Range (IQR): The middle 50% of data, calculated as Q3 - Q1 (size of the box).\n",
    "- Whiskers: The \"tails\" extending from the box, representing the minimum and maximum values within 1.5 * IQR from Q1 and Q3."
   ]
  },
  {
   "cell_type": "code",
   "execution_count": 224,
   "metadata": {},
   "outputs": [
    {
     "name": "stdout",
     "output_type": "stream",
     "text": [
      "81.08\n"
     ]
    }
   ],
   "source": [
    "# Step 3.4 : Solving KPI'set\n",
    "\n",
    "# KPI 1: Call Answer Rate (%)\n",
    "'''This KPI measures the percentage of calls that were answered out of the total calls received. It helps assess how efficient the call center is at handling incoming calls.'''\n",
    "\n",
    "total_calls=len(data)\n",
    "\n",
    "answered_calls=data[\"Answered (Y/N)\"].value_counts()[\"Y\"]\n",
    "\n",
    "call_answer_rate = (answered_calls/total_calls)*100\n",
    "\n",
    "print(call_answer_rate)\n",
    "\n",
    "# The call_answer_rate is only 81.08% hence call center is not so efficient\n",
    "\n",
    "\n"
   ]
  },
  {
   "cell_type": "code",
   "execution_count": 238,
   "metadata": {},
   "outputs": [
    {
     "data": {
      "text/plain": [
       "67.52072027627035"
      ]
     },
     "execution_count": 238,
     "metadata": {},
     "output_type": "execute_result"
    }
   ],
   "source": [
    "# KPI 2: Average Speed of Answer (ASA)\n",
    "\n",
    "'''This KPI measures the average time (in seconds) it takes for an agent to answer a call.\n",
    "A lower ASA means that customers are getting assistance quickly, leading to higher satisfaction. '''\n",
    "\n",
    "calls_answered = data[data[\"Answered (Y/N)\"]==\"Y\"]\n",
    "calls_answered[\"Speed of answer (in seconds)\"].mean()\n",
    "\n",
    "# This is not efficient as it usually takes above a minute to answer the call.\n"
   ]
  },
  {
   "cell_type": "code",
   "execution_count": 240,
   "metadata": {},
   "outputs": [
    {
     "name": "stderr",
     "output_type": "stream",
     "text": [
      "/Users/vaishnavipullakhandam/anaconda3/lib/python3.10/site-packages/seaborn/_oldcore.py:1119: FutureWarning: use_inf_as_na option is deprecated and will be removed in a future version. Convert inf values to NaN before operating instead.\n",
      "  with pd.option_context('mode.use_inf_as_na', True):\n"
     ]
    },
    {
     "data": {
      "text/plain": [
       "Text(0.5, 1.0, 'Distribution of Speed of Answer for Answered Calls')"
      ]
     },
     "execution_count": 240,
     "metadata": {},
     "output_type": "execute_result"
    },
    {
     "data": {
      "image/png": "[encoded data removed]",
      "text/plain": [
       "<Figure size 1000x500 with 1 Axes>"
      ]
     },
     "metadata": {},
     "output_type": "display_data"
    }
   ],
   "source": []
  }
 ],
 "metadata": {
  "kernelspec": {
   "display_name": "base",
   "language": "python",
   "name": "python3"
  },
  "language_info": {
   "codemirror_mode": {
    "name": "ipython",
    "version": 3
   },
   "file_extension": ".py",
   "mimetype": "text/x-python",
   "name": "python",
   "nbconvert_exporter": "python",
   "pygments_lexer": "ipython3",
   "version": "3.10.9"
  },
  "orig_nbformat": 4
 },
 "nbformat": 4,
 "nbformat_minor": 2
}
