{
 "cells": [
  {
   "attachments": {},
   "cell_type": "markdown",
   "metadata": {},
   "source": [
    "#### Customer Call Center Performance Analysis\n",
    "\n",
    "##### Data Overview\n",
    "The dataset has 5,000 entries and 10 columns. Here's a summary of the columns:\n",
    "\n",
    "- Call Id: Identifier for each call (e.g., ID0001)\n",
    "- Agent: Name of the agent who handled the call\n",
    "- Date: Date of the call (stored as a string)\n",
    "- Time: Time of the call (stored as a string)\n",
    "- Topic: The topic discussed during the call (e.g.,Contract related, Technical Support)\n",
    "- Answered (Y/N): Whether the call was answered or not (Y for answered, N for unanswered)\n",
    "- Resolved: Whether the issue was resolved (Y for yes, N for no)\n",
    "- Speed of answer in seconds: The time taken to answer the call\n",
    "- AvgTalkDuration: Average talk duration of the call \n",
    "- Satisfaction rating: A rating given for customer satisfaction\n",
    "\n",
    "\n",
    "##### Objective:\n",
    "\n",
    "The goal of this project is to analyze customer call center data to gain insights into the following:\n",
    "\n",
    "- Agent Performance: Identify top-performing agents based on factors like call resolution, speed of answer, and customer satisfaction ratings.\n",
    "- Call Topic Analysis: Determine which topics are most frequently discussed and how they impact call outcomes (answered, resolved, etc.).\n",
    "- Customer Satisfaction: Analyze the factors that influence customer satisfaction scores, such as speed of answer and resolution status.\n",
    "- Operational Efficiency: Evaluate how efficiently the call center operates, considering metrics like average talk duration and speed of answering.\n"
   ]
  },
  {
   "attachments": {},
   "cell_type": "markdown",
   "metadata": {},
   "source": [
    "##### STEP 1 : Data Loading and Inspection\n",
    "\n"
   ]
  },
  {
   "cell_type": "code",
   "execution_count": 2,
   "metadata": {},
   "outputs": [
    {
     "name": "stderr",
     "output_type": "stream",
     "text": [
      "/Users/vaishnavipullakhandam/anaconda3/lib/python3.10/site-packages/pandas/core/arrays/masked.py:60: UserWarning: Pandas requires version '1.3.6' or newer of 'bottleneck' (version '1.3.5' currently installed).\n",
      "  from pandas.core import (\n"
     ]
    }
   ],
   "source": [
    "import pandas as pd"
   ]
  },
  {
   "cell_type": "code",
   "execution_count": null,
   "metadata": {},
   "outputs": [],
   "source": [
    "data =pd.read_excel(\"/Users/vaishnavipullakhandam/Desktop/github/excel/Call-Center-Data.xlsx\")"
   ]
  }
 ],
 "metadata": {
  "kernelspec": {
   "display_name": "Python 3",
   "language": "python",
   "name": "python3"
  },
  "language_info": {
   "codemirror_mode": {
    "name": "ipython",
    "version": 3
   },
   "file_extension": ".py",
   "mimetype": "text/x-python",
   "name": "python",
   "nbconvert_exporter": "python",
   "pygments_lexer": "ipython3",
   "version": "3.10.9"
  },
  "orig_nbformat": 4
 },
 "nbformat": 4,
 "nbformat_minor": 2
}
